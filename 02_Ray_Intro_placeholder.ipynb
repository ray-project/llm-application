{
 "cells": [
  {
   "cell_type": "code",
   "execution_count": 1,
   "id": "12634c83-df02-4209-8171-171e4fb1b640",
   "metadata": {
    "tags": []
   },
   "outputs": [],
   "source": [
    "# foo"
   ]
  },
  {
   "cell_type": "code",
   "execution_count": null,
   "id": "3d1ec59d-7246-4562-a41e-0ed0c19ee27f",
   "metadata": {},
   "outputs": [],
   "source": []
  }
 ],
 "metadata": {
  "kernelspec": {
   "display_name": "Python 3 (ipykernel)",
   "language": "python",
   "name": "python3"
  },
  "language_info": {
   "codemirror_mode": {
    "name": "ipython",
    "version": 3
   },
   "file_extension": ".py",
   "mimetype": "text/x-python",
   "name": "python",
   "nbconvert_exporter": "python",
   "pygments_lexer": "ipython3",
   "version": "3.9.15"
  }
 },
 "nbformat": 4,
 "nbformat_minor": 5
}
